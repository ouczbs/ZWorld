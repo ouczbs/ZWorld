{
 "cells": [
  {
   "cell_type": "code",
   "execution_count": 1,
   "metadata": {},
   "outputs": [
    {
     "name": "stdout",
     "output_type": "stream",
     "text": [
      "Building configurations...\n",
      "Running action 'vs2017'...\n",
      "Generated Build/vs2017/recastnavigation.sln...\n",
      "Generated Build/vs2017/DebugUtils.vcxproj...\n",
      "Generated Build/vs2017/DebugUtils.vcxproj.filters...\n",
      "Generated Build/vs2017/Detour.vcxproj...\n",
      "Generated Build/vs2017/Detour.vcxproj.filters...\n",
      "Generated Build/vs2017/DetourCrowd.vcxproj...\n",
      "Generated Build/vs2017/DetourCrowd.vcxproj.filters...\n",
      "Generated Build/vs2017/DetourTileCache.vcxproj...\n",
      "Generated Build/vs2017/DetourTileCache.vcxproj.filters...\n",
      "Generated Build/vs2017/Recast.vcxproj...\n",
      "Generated Build/vs2017/Recast.vcxproj.filters...\n",
      "Generated Build/vs2017/RecastDemo.vcxproj...\n",
      "Generated Build/vs2017/RecastDemo.vcxproj.user...\n",
      "Generated Build/vs2017/RecastDemo.vcxproj.filters...\n",
      "Generated Build/vs2017/Tests.vcxproj...\n",
      "Generated Build/vs2017/Tests.vcxproj.user...\n",
      "Generated Build/vs2017/Tests.vcxproj.filters...\n",
      "Done (105ms).\n"
     ]
    }
   ],
   "source": [
    "!cd E:\\ouczbs\\UE4\\Navmesh\\RecastDemo && premake5 vs2017"
   ]
  },
  {
   "cell_type": "code",
   "execution_count": null,
   "metadata": {},
   "outputs": [],
   "source": []
  }
 ],
 "metadata": {
  "kernelspec": {
   "display_name": "Python 3",
   "language": "python",
   "name": "python3"
  },
  "language_info": {
   "codemirror_mode": {
    "name": "ipython",
    "version": 3
   },
   "file_extension": ".py",
   "mimetype": "text/x-python",
   "name": "python",
   "nbconvert_exporter": "python",
   "pygments_lexer": "ipython3",
   "version": "3.7.3"
  }
 },
 "nbformat": 4,
 "nbformat_minor": 2
}
