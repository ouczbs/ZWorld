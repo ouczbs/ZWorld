{
 "cells": [
  {
   "cell_type": "code",
   "execution_count": 14,
   "metadata": {},
   "outputs": [],
   "source": [
    "import os\n",
    "import shutil\n",
    "def mk_dir(out_dir):\n",
    "    if not os.path.isdir(out_dir):\n",
    "        os.mkdir(out_dir)\n",
    "    pass\n",
    "def get_size(start_path = '.'):\n",
    "    total_size = 0\n",
    "    for dirpath, dirnames, filenames in os.walk(start_path):\n",
    "        for f in filenames:\n",
    "            fp = os.path.join(dirpath, f)\n",
    "            # skip if it is symbolic link\n",
    "            if not os.path.islink(fp):\n",
    "                total_size += os.path.getsize(fp)\n",
    " \n",
    "    return total_size\n",
    "def copy_dir(dir1 , dir2 , bkeepstruct = False):\n",
    "    size = get_size(dir1)\n",
    "    if size > 200 * 1024 * 1024:\n",
    "        for fi in os.listdir(dir1):\n",
    "            ori_dir = dir1 + \"\\\\\"+ fi\n",
    "            new_dir = dir2 + \"\\\\\"+ fi\n",
    "            if os.path.isdir(ori_dir):\n",
    "                mk_dir(new_dir)\n",
    "                copy_dir(ori_dir ,new_dir )\n",
    "    else:\n",
    "        for root, dirs, files in os.walk(dir1):\n",
    "            for file in files:\n",
    "                src_file = os.path.join(root, file)\n",
    "                shutil.copy(src_file, dir2)\n",
    "            #print(src_file)\n",
    "    pass"
   ]
  },
  {
   "cell_type": "code",
   "execution_count": 15,
   "metadata": {},
   "outputs": [],
   "source": [
    "in_dir = \"F:\\\\Genshin\\\\Texture2D\\\\Texture2D\\\\\"\n",
    "out_dir = \"F:\\\\Genshin\\\\Texture2D\\\\Extract\\\\\"\n",
    "#origin_dir = \"F:\\\\Genshin\\\\Texture2D\\\\Extract\\\\Origin\\\\\"\n",
    "mk_dir(out_dir)\n",
    "#mk_dir(origin_dir)"
   ]
  },
  {
   "cell_type": "code",
   "execution_count": 16,
   "metadata": {},
   "outputs": [
    {
     "data": {
      "text/plain": [
       "'F:\\\\Genshin\\\\Texture2D\\\\Texture2D\\\\Area'"
      ]
     },
     "execution_count": 16,
     "metadata": {},
     "output_type": "execute_result"
    }
   ],
   "source": [
    "ori_dir"
   ]
  },
  {
   "cell_type": "code",
   "execution_count": 18,
   "metadata": {
    "scrolled": true
   },
   "outputs": [],
   "source": [
    "for fi in os.listdir(in_dir):\n",
    "    ori_dir = in_dir +fi\n",
    "    new_dir = out_dir +fi\n",
    "    if os.path.isdir(ori_dir):\n",
    "        mk_dir(new_dir)\n",
    "        copy_dir(ori_dir , new_dir)"
   ]
  },
  {
   "cell_type": "code",
   "execution_count": null,
   "metadata": {},
   "outputs": [],
   "source": [
    "#copy all image to ui\n",
    "_module = \"UI\"\n",
    "for _module in [\"Animal\" ,\"Avatar\" , \"AvatarItem\"]:\n",
    "    in_module = in_dir + _module\n",
    "    origin_module = origin_dir + _module\n",
    "    out_module = out_dir + _module\n",
    "    mk_dir(origin_module)\n",
    "    mk_dir(out_module)\n",
    "    copy_dir(in_module , origin_module)"
   ]
  },
  {
   "cell_type": "code",
   "execution_count": 7,
   "metadata": {},
   "outputs": [],
   "source": [
    "def check_out_star(origin , fi , out , pattern , todir):\n",
    "    if fi.startswith(pattern):\n",
    "        ori_dir = origin + \"\\\\\" + fi\n",
    "        out_dir = out + \"\\\\\" + todir + \"\\\\\"\n",
    "        mk_dir(out_dir)\n",
    "        shutil.move(ori_dir , out_dir)\n",
    "        return True\n",
    "    pass\n",
    "def check_out_in(origin , fi , out , pattern , todir):\n",
    "    if pattern in fi:\n",
    "        ori_dir = origin + \"\\\\\" + fi\n",
    "        out_dir = out + \"\\\\\" + todir + \"\\\\\"\n",
    "        mk_dir(out_dir)\n",
    "        shutil.move(ori_dir , out_dir)\n",
    "        return True\n",
    "    pass\n",
    "def check_ori_star(origin , fi , out , pattern , todir):\n",
    "    if fi.startswith(pattern):\n",
    "        ori_dir = origin + \"\\\\\" + fi\n",
    "        out_dir = origin + \"\\\\\" + todir + \"\\\\\"\n",
    "        mk_dir(out_dir)\n",
    "        shutil.move(ori_dir , out_dir)\n",
    "        return True\n",
    "    pass\n",
    "def check_ori_in(origin , fi , out , pattern , todir):\n",
    "    if pattern in fi:\n",
    "        ori_dir = origin + \"\\\\\" + fi\n",
    "        out_dir = origin + \"\\\\\" + todir + \"\\\\\"\n",
    "        mk_dir(out_dir)\n",
    "        shutil.move(ori_dir , out_dir)\n",
    "        return True\n",
    "    pass\n",
    "check_funcs = {\n",
    "    \"out\":{\n",
    "        \"star\":check_out_star,\n",
    "        \"in\":check_out_in,\n",
    "    },\n",
    "    \"ori\":{\n",
    "        \"star\":check_ori_star,\n",
    "        \"in\":check_ori_in,\n",
    "    },\n",
    "}"
   ]
  },
  {
   "cell_type": "code",
   "execution_count": null,
   "metadata": {},
   "outputs": [],
   "source": [
    "UI_QuestCommon02_Start"
   ]
  },
  {
   "cell_type": "code",
   "execution_count": 51,
   "metadata": {},
   "outputs": [],
   "source": [
    "check_config = {\n",
    "    \"UI_Abyss\":[\"ori\", \"star\" , \"Abyss\"],\n",
    "    \"UI_BigWorld\":[\"ori\", \"star\" , \"BigWorld\"],\n",
    "    \"UI_CoopCutScene\":[\"ori\", \"star\" , \"CutScene\"],\n",
    "    \"UI_CutScene\":[\"ori\", \"star\" , \"CutScene\"],\n",
    "    \"UI_PlotCutScene\":[\"ori\", \"star\" , \"CutScene\"],\n",
    "    \"UI_Activity\":[\"ori\", \"star\" , \"Activity\"],\n",
    "    \"Tutoria\":[\"ori\", \"in\" , \"Tutoria\"],\n",
    "    \"UI_AranaraBook\":[\"ori\", \"star\" , \"AranaraBook\"],\n",
    "    \"UI_Codex_Scenery\":[\"ori\", \"star\" , \"Scenery\"],\n",
    "    \"UI_DungeonPic\":[\"ori\", \"star\" , \"DungeonPic\"],\n",
    "    \"UI_Effigy\":[\"ori\", \"star\" , \"Effigy\"],\n",
    "    \"UI_ExplorePic\":[\"ori\", \"star\" , \"ExplorePic\"],\n",
    "    \"UI_Fog\":[\"ori\", \"star\" , \"Fog\"],\n",
    "    \"UI_MapBack\":[\"ori\", \"star\" , \"MapBack\"],\n",
    "    \"UI_Map_\":[\"ori\", \"star\" , \"Map\"],\n",
    "    \"UI_Img\":[\"ori\", \"star\" , \"Img\"],\n",
    "    \"UI_HandbookPic\":[\"ori\", \"star\" , \"HandbookPic\"],\n",
    "    \"UI_Home\":[\"ori\", \"star\" , \"Home\"],\n",
    "    #\n",
    "    \"UI_Quest\":[\"out\", \"star\" , \"Quest\"],\n",
    "    \"UI_BlitzRush\":[\"out\", \"star\" , \"BlitzRush\"],\n",
    "    \"UI_Property\":[\"out\", \"star\" , \"Property\"],\n",
    "    \"UI_Music\":[\"out\", \"star\" , \"Music\"],\n",
    "    \"UI_Michiae\":[\"out\", \"star\" , \"Michiae\"],\n",
    "    \"UI_Icon\":[\"out\", \"star\" , \"Icon\"],\n",
    "    \"UI_NPC\":[\"out\", \"star\" , \"NPC\"],\n",
    "    \"UI_Monster\":[\"out\", \"star\" , \"Monster\"],\n",
    "    \"UI_NameCard\":[\"out\", \"star\" , \"NameCard\"],\n",
    "    \"UI_ItemIcon\":[\"out\", \"star\" , \"ItemIcon\"],\n",
    "    \"UI_MarkPoint\":[\"out\", \"star\" , \"MarkPoint\"],\n",
    "    \"UI_UGCIcon\":[\"out\", \"star\" , \"UGCIcon\"],\n",
    "    \"UI_Homeworld\":[\"out\", \"star\" , \"Homeworld\"],\n",
    "    \"UI_Gacha\":[\"out\", \"star\" , \"Gacha\"],\n",
    "    \"UI_Flycloak\":[\"out\", \"star\" , \"Flycloak\"],\n",
    "    \"UI_EmotionTag\":[\"out\", \"star\" , \"EmotionTag\"],\n",
    "    \"UI_DrinkIcon\":[\"out\", \"star\" , \"DrinkIcon\"],\n",
    "    \"UI_Display\":[\"out\", \"star\" , \"Display\"],\n",
    "    \"UI_Achievement\":[\"out\", \"star\" , \"Achievement\"],\n",
    "    \"UI_Animal\":[\"out\", \"star\" , \"Animal\"],\n",
    "    \"UI_AvatarIcon\":[\"out\", \"star\" , \"AvatarIcon\"],\n",
    "    \"UI_Btn\":[\"out\", \"star\" , \"Btn\"],\n",
    "    \"UI_Chapter\":[\"out\", \"star\" , \"Chapter\"],\n",
    "    \"UI_CoopImg\":[\"out\", \"star\" , \"CoopImg\"],\n",
    "    \"UI_Costume\":[\"out\", \"star\" , \"CoopImg\"],\n",
    "    \"UI_EmotionIcon\":[\"out\", \"star\" , \"EmotionIcon\"],\n",
    "    \"UI_EquipIcon\":[\"out\", \"star\" , \"EquipIcon\"],\n",
    "    \"UI_RelicIcon\":[\"out\", \"star\" , \"RelicIcon\"],\n",
    "    \"UI_Talent\":[\"out\", \"star\" , \"Talent\"],\n",
    "    #UI_TowerBlessing_25\n",
    "}\n",
    "keys = check_config.keys()"
   ]
  },
  {
   "cell_type": "code",
   "execution_count": 52,
   "metadata": {},
   "outputs": [
    {
     "name": "stdout",
     "output_type": "stream",
     "text": [
      "1747 21\n"
     ]
    }
   ],
   "source": [
    "count = 0\n",
    "allcount = 0\n",
    "for fi in os.listdir(origin_module):\n",
    "    allcount = allcount + 1\n",
    "    if os.path.isdir(origin_module + \"\\\\\" +fi):\n",
    "        continue\n",
    "    for k in keys:\n",
    "        if k not in check_config:\n",
    "            continue\n",
    "        out,star,todir = check_config[k]\n",
    "        if out in check_funcs and star in check_funcs[out]:\n",
    "            bremove = check_funcs[out][star](origin_module , fi , out_module, k , todir)\n",
    "            if bremove:\n",
    "                count = count + 1\n",
    "                break\n",
    "    pass\n",
    "print(allcount , count)"
   ]
  },
  {
   "cell_type": "code",
   "execution_count": null,
   "metadata": {},
   "outputs": [],
   "source": []
  }
 ],
 "metadata": {
  "kernelspec": {
   "display_name": "Python 3",
   "language": "python",
   "name": "python3"
  },
  "language_info": {
   "codemirror_mode": {
    "name": "ipython",
    "version": 3
   },
   "file_extension": ".py",
   "mimetype": "text/x-python",
   "name": "python",
   "nbconvert_exporter": "python",
   "pygments_lexer": "ipython3",
   "version": "3.7.3"
  }
 },
 "nbformat": 4,
 "nbformat_minor": 5
}
