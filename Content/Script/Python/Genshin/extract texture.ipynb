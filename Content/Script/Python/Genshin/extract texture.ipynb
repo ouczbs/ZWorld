{
 "cells": [
  {
   "cell_type": "code",
   "execution_count": 21,
   "id": "1b1bea7d",
   "metadata": {},
   "outputs": [],
   "source": [
    "import os\n",
    "import shutil\n",
    "def mk_dir(out_dir):\n",
    "    if not os.path.isdir(out_dir):\n",
    "        os.mkdir(out_dir)\n",
    "    pass\n",
    "def copy_dir(dir1 , dir2 , bkeepstruct = False):\n",
    "    for root, dirs, files in os.walk(dir1):\n",
    "        for file in files:\n",
    "            src_file = os.path.join(root, file)\n",
    "            shutil.copy(src_file, dir2)\n",
    "            #print(src_file)\n",
    "    pass"
   ]
  },
  {
   "cell_type": "code",
   "execution_count": 86,
   "id": "80845484",
   "metadata": {},
   "outputs": [],
   "source": [
    "in_dir = \"F:\\\\Genshin\\\\Texture2D\\\\Texture2D\\\\\"\n",
    "out_dir = \"F:\\\\Genshin\\\\Texture2D\\\\Extract\\\\\"\n",
    "origin_dir = \"F:\\\\Genshin\\\\Texture2D\\\\Extract\\\\Origin\\\\\"\n",
    "mk_dir(out_dir)\n",
    "mk_dir(origin_dir)"
   ]
  },
  {
   "cell_type": "code",
   "execution_count": 87,
   "id": "725890c5",
   "metadata": {},
   "outputs": [],
   "source": [
    "#copy all image to ui\n",
    "_module = \"UI\"\n",
    "in_module = in_dir + _module\n",
    "origin_module = origin_dir + _module\n",
    "out_module = out_dir + _module\n",
    "mk_dir(origin_module)\n",
    "mk_dir(out_module)\n",
    "copy_dir(in_module , origin_module)"
   ]
  },
  {
   "cell_type": "code",
   "execution_count": 98,
   "id": "fca326f2",
   "metadata": {},
   "outputs": [],
   "source": [
    "def check_out_star(origin , fi , out , pattern , todir):\n",
    "    if fi.startswith(pattern):\n",
    "        ori_dir = origin + \"\\\\\" + fi\n",
    "        out_dir = out + \"\\\\\" + todir + \"\\\\\"\n",
    "        mk_dir(out_dir)\n",
    "        shutil.move(ori_dir , out_dir)\n",
    "        return True\n",
    "    pass\n",
    "def check_out_in(origin , fi , out , pattern , todir):\n",
    "    if pattern in fi:\n",
    "        ori_dir = origin + \"\\\\\" + fi\n",
    "        out_dir = out + \"\\\\\" + todir + \"\\\\\"\n",
    "        mk_dir(out_dir)\n",
    "        shutil.move(ori_dir , out_dir)\n",
    "        return True\n",
    "    pass\n",
    "def check_ori_star(origin , fi , out , pattern , todir):\n",
    "    if fi.startswith(pattern):\n",
    "        ori_dir = origin + \"\\\\\" + fi\n",
    "        out_dir = origin + \"\\\\\" + todir + \"\\\\\"\n",
    "        mk_dir(out_dir)\n",
    "        shutil.move(ori_dir , out_dir)\n",
    "        return True\n",
    "    pass\n",
    "def check_ori_in(origin , fi , out , pattern , todir):\n",
    "    if pattern in fi:\n",
    "        ori_dir = origin + \"\\\\\" + fi\n",
    "        out_dir = origin + \"\\\\\" + todir + \"\\\\\"\n",
    "        mk_dir(out_dir)\n",
    "        shutil.move(ori_dir , out_dir)\n",
    "        return True\n",
    "    pass\n",
    "check_funcs = {\n",
    "    \"out\":{\n",
    "        \"star\":check_out_star,\n",
    "        \"in\":check_out_in,\n",
    "    },\n",
    "    \"ori\":{\n",
    "        \"star\":check_ori_star,\n",
    "        \"in\":check_ori_in,\n",
    "    },\n",
    "}"
   ]
  },
  {
   "cell_type": "code",
   "execution_count": 109,
   "id": "7aec91ff",
   "metadata": {},
   "outputs": [],
   "source": [
    "check_config = {\n",
    "    \"UI_Abyss\":[\"ori\", \"star\" , \"Abyss\"],\n",
    "    \"UI_BigWorld\":[\"ori\", \"star\" , \"BigWorld\"],\n",
    "    \"UI_CoopCutScene\":[\"ori\", \"star\" , \"CutScene\"],\n",
    "    \"UI_Activity\":[\"ori\", \"star\" , \"Activity\"],\n",
    "    \"Tutoria\":[\"ori\", \"in\" , \"Tutoria\"],\n",
    "    \"UI_AranaraBook\":[\"ori\", \"star\" , \"AranaraBook\"],\n",
    "    \"UI_AranaraBook\":[\"ori\", \"star\" , \"AranaraBook\"],\n",
    "    \n",
    "    \"UI_Achievement\":[\"out\", \"star\" , \"Achievement\"],\n",
    "    \"UI_Animal\":[\"out\", \"star\" , \"Animal\"],\n",
    "    \"UI_AvatarIcon\":[\"out\", \"star\" , \"AvatarIcon\"],\n",
    "    \"UI_Btn\":[\"out\", \"star\" , \"Btn\"],\n",
    "    \"UI_Chapter\":[\"out\", \"star\" , \"Chapter\"],\n",
    "    \"UI_Codex_Scenery\":[\"out\", \"star\" , \"Scenery\"],\n",
    "    \"UI_CoopImg\":[\"out\", \"star\" , \"CoopImg\"],\n",
    "    \"UI_Costume\":[\"out\", \"star\" , \"CoopImg\"],\n",
    "    \"UI_EmotionIcon\":[\"out\", \"star\" , \"EmotionIcon\"],\n",
    "    \"UI_EquipIcon\":[\"out\", \"star\" , \"EquipIcon\"],\n",
    "    \"UI_RelicIcon\":[\"out\", \"star\" , \"RelicIcon\"],\n",
    "    \"UI_Talent\":[\"out\", \"star\" , \"Talent\"],\n",
    "    #UI_TowerBlessing_25\n",
    "}\n",
    "keys = check_config.keys()"
   ]
  },
  {
   "cell_type": "code",
   "execution_count": 110,
   "id": "2d2df140",
   "metadata": {},
   "outputs": [],
   "source": [
    "for fi in os.listdir(origin_module):\n",
    "    if os.path.isdir(origin_module + \"\\\\\" +fi):\n",
    "        continue\n",
    "    for k in keys:\n",
    "        if k not in check_config:\n",
    "            continue\n",
    "        out,star,todir = check_config[k]\n",
    "        if out in check_funcs and star in check_funcs[out]:\n",
    "            bremove = check_funcs[out][star](origin_module , fi , out_module, k , todir)\n",
    "            if bremove:\n",
    "                break\n",
    "    pass"
   ]
  },
  {
   "cell_type": "code",
   "execution_count": null,
   "id": "e51dc856",
   "metadata": {},
   "outputs": [],
   "source": []
  }
 ],
 "metadata": {
  "kernelspec": {
   "display_name": "Python 3 (ipykernel)",
   "language": "python",
   "name": "python3"
  },
  "language_info": {
   "codemirror_mode": {
    "name": "ipython",
    "version": 3
   },
   "file_extension": ".py",
   "mimetype": "text/x-python",
   "name": "python",
   "nbconvert_exporter": "python",
   "pygments_lexer": "ipython3",
   "version": "3.9.12"
  }
 },
 "nbformat": 4,
 "nbformat_minor": 5
}
