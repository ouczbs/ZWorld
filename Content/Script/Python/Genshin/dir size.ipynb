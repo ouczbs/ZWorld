{
 "cells": [
  {
   "cell_type": "code",
   "execution_count": 1,
   "id": "634029bc",
   "metadata": {},
   "outputs": [
    {
     "name": "stdout",
     "output_type": "stream",
     "text": [
      "2168 bytes\n"
     ]
    }
   ],
   "source": [
    "import os \n",
    "def get_size(start_path = '.'):\n",
    "    total_size = 0\n",
    "    for dirpath, dirnames, filenames in os.walk(start_path):\n",
    "        for f in filenames:\n",
    "            fp = os.path.join(dirpath, f)\n",
    "            # skip if it is symbolic link\n",
    "            if not os.path.islink(fp):\n",
    "                total_size += os.path.getsize(fp)\n",
    " \n",
    "    return total_size\n",
    " \n",
    "print(get_size(), 'bytes')"
   ]
  },
  {
   "cell_type": "code",
   "execution_count": 14,
   "id": "dbe005ce",
   "metadata": {},
   "outputs": [
    {
     "name": "stdout",
     "output_type": "stream",
     "text": [
      "F:\\Genshin\\Texture2D\\Texture2D\\Area size =  4.5 GB\n",
      "F:\\Genshin\\Texture2D\\Texture2D\\Eff size =  655.6 MB\n",
      "F:\\Genshin\\Texture2D\\Texture2D\\Level size =  671.9 MB\n",
      "F:\\Genshin\\Texture2D\\Texture2D\\Property size =  1.2 GB\n",
      "F:\\Genshin\\Texture2D\\Texture2D\\UI size =  2.1 GB\n"
     ]
    }
   ],
   "source": [
    "def covertFukeSize(size):\n",
    "    kb=1024;\n",
    "    mb=kb*1024;\n",
    "    gb=mb*1024;\n",
    "    tb=gb*1024;\n",
    "    if size>=tb:\n",
    "        return \"%.1f TB\"% float(size / tb)\n",
    "    if size>=gb:\n",
    "        return \"%.1f GB\"% float(size / gb)\n",
    "    if size>=mb:\n",
    "        return \"%.1f MB\"% float(size / mb)\n",
    "    if size>=kb:\n",
    "        return \"%.1f KB\"% float(size / kb)\n",
    "    return size\n",
    "def ParseSize(root_dir):\n",
    "    for fi in os.listdir(root_dir):\n",
    "        newdir = root_dir + \"\\\\\" + fi\n",
    "        if os.path.isdir(newdir):\n",
    "            size = get_size(newdir)\n",
    "            if size > 1024 * 1024 * 500:\n",
    "                csize = covertFukeSize(size)\n",
    "                print(newdir + \" size = \" , csize)\n",
    "    pass\n",
    "ParseSize(\"F:\\\\Genshin\\\\Texture2D\\\\Texture2D\")"
   ]
  },
  {
   "cell_type": "code",
   "execution_count": null,
   "id": "db8b29b9",
   "metadata": {},
   "outputs": [],
   "source": []
  },
  {
   "cell_type": "code",
   "execution_count": null,
   "id": "bdcfc7e1",
   "metadata": {},
   "outputs": [],
   "source": []
  }
 ],
 "metadata": {
  "kernelspec": {
   "display_name": "Python 3 (ipykernel)",
   "language": "python",
   "name": "python3"
  },
  "language_info": {
   "codemirror_mode": {
    "name": "ipython",
    "version": 3
   },
   "file_extension": ".py",
   "mimetype": "text/x-python",
   "name": "python",
   "nbconvert_exporter": "python",
   "pygments_lexer": "ipython3",
   "version": "3.9.12"
  }
 },
 "nbformat": 4,
 "nbformat_minor": 5
}
