{
 "cells": [
  {
   "cell_type": "code",
   "execution_count": 1,
   "metadata": {},
   "outputs": [
    {
     "name": "stdout",
     "output_type": "stream",
     "text": [
      "26402 bytes\n"
     ]
    }
   ],
   "source": [
    "import os \n",
    "def get_size(start_path = '.'):\n",
    "    total_size = 0\n",
    "    for dirpath, dirnames, filenames in os.walk(start_path):\n",
    "        for f in filenames:\n",
    "            fp = os.path.join(dirpath, f)\n",
    "            # skip if it is symbolic link\n",
    "            if not os.path.islink(fp):\n",
    "                total_size += os.path.getsize(fp)\n",
    " \n",
    "    return total_size\n",
    " \n",
    "print(get_size(), 'bytes')"
   ]
  },
  {
   "cell_type": "code",
   "execution_count": 3,
   "metadata": {},
   "outputs": [
    {
     "name": "stdout",
     "output_type": "stream",
     "text": [
      "F:\\Genshin\\Texture2D\\Texture2D\\Area\\Celestia size =  158.9 KB\n",
      "F:\\Genshin\\Texture2D\\Texture2D\\Area\\Common size =  415.5 MB\n",
      "F:\\Genshin\\Texture2D\\Texture2D\\Area\\Cyg size =  41.3 KB\n",
      "F:\\Genshin\\Texture2D\\Texture2D\\Area\\Cyjy size =  493.0 MB\n",
      "F:\\Genshin\\Texture2D\\Texture2D\\Area\\Dq size =  862.0 MB\n",
      "F:\\Genshin\\Texture2D\\Texture2D\\Area\\Hd size =  21.7 MB\n",
      "F:\\Genshin\\Texture2D\\Texture2D\\Area\\LA size =  87.5 KB\n",
      "F:\\Genshin\\Texture2D\\Texture2D\\Area\\Ljxs size =  172.5 MB\n",
      "F:\\Genshin\\Texture2D\\Texture2D\\Area\\Ly size =  879.2 MB\n",
      "F:\\Genshin\\Texture2D\\Texture2D\\Area\\ManorProps size =  255.0 KB\n",
      "F:\\Genshin\\Texture2D\\Texture2D\\Area\\Md size =  18.8 MB\n",
      "F:\\Genshin\\Texture2D\\Texture2D\\Area\\MdBuild size =  123.4 MB\n",
      "F:\\Genshin\\Texture2D\\Texture2D\\Area\\Mdcity size =  25.1 MB\n",
      "F:\\Genshin\\Texture2D\\Texture2D\\Area\\MdGroundMix size =  29.0 KB\n",
      "F:\\Genshin\\Texture2D\\Texture2D\\Area\\MdProps size =  46.0 MB\n",
      "F:\\Genshin\\Texture2D\\Texture2D\\Area\\Xm size =  1.5 GB\n"
     ]
    }
   ],
   "source": [
    "def covertFukeSize(size):\n",
    "    kb=1024;\n",
    "    mb=kb*1024;\n",
    "    gb=mb*1024;\n",
    "    tb=gb*1024;\n",
    "    if size>=tb:\n",
    "        return \"%.1f TB\"% float(size / tb)\n",
    "    if size>=gb:\n",
    "        return \"%.1f GB\"% float(size / gb)\n",
    "    if size>=mb:\n",
    "        return \"%.1f MB\"% float(size / mb)\n",
    "    if size>=kb:\n",
    "        return \"%.1f KB\"% float(size / kb)\n",
    "    return size\n",
    "def ParseSize(root_dir):\n",
    "    for fi in os.listdir(root_dir):\n",
    "        newdir = root_dir + \"\\\\\" + fi\n",
    "        if os.path.isdir(newdir):\n",
    "            size = get_size(newdir)\n",
    "            csize = covertFukeSize(size)\n",
    "            print(newdir + \" size = \" , csize)\n",
    "    pass\n",
    "ParseSize(\"F:\\Genshin\\Texture2D\\Texture2D\\Area\")"
   ]
  },
  {
   "cell_type": "code",
   "execution_count": null,
   "metadata": {},
   "outputs": [],
   "source": []
  },
  {
   "cell_type": "code",
   "execution_count": null,
   "metadata": {},
   "outputs": [],
   "source": []
  }
 ],
 "metadata": {
  "kernelspec": {
   "display_name": "Python 3",
   "language": "python",
   "name": "python3"
  },
  "language_info": {
   "codemirror_mode": {
    "name": "ipython",
    "version": 3
   },
   "file_extension": ".py",
   "mimetype": "text/x-python",
   "name": "python",
   "nbconvert_exporter": "python",
   "pygments_lexer": "ipython3",
   "version": "3.7.3"
  }
 },
 "nbformat": 4,
 "nbformat_minor": 5
}
