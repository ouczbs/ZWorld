{
 "cells": [
  {
   "cell_type": "code",
   "execution_count": 26,
   "id": "ba39a4d8",
   "metadata": {},
   "outputs": [],
   "source": [
    "import json,os\n",
    "\n",
    "def LoadFromJson(json_file_name):\n",
    "    with open(json_file_name, 'rb') as f:\n",
    "        return json.load(f)\n",
    "def KeyToLuaStr(key):\n",
    "    if key.isdigit():\n",
    "        return \"[{}]\".format(key)\n",
    "    return key\n",
    "def DataToLuaStr(data, retract = 1):\n",
    "    if isinstance(data, (int, float)):\n",
    "        return str(data)\n",
    "    elif isinstance(data, str):\n",
    "        return \"\\\"{}\\\"\".format(data)\n",
    "    elif isinstance(data, list):\n",
    "        temp_str = \"{\\n\"\n",
    "        for one_data in data:\n",
    "            temp_str += \"\\t\" * retract\n",
    "            temp_str += \"{},\\n\".format(DataToLuaStr(one_data, retract + 1))\n",
    "        temp_str += \"\\t\" * (retract - 1)\n",
    "        temp_str += \"}\"\n",
    "        return temp_str\n",
    "    elif isinstance(data, dict):\n",
    "        temp_str = \"{\\n\"\n",
    "        for key in data.keys():\n",
    "            temp_str += \"\\t\" * retract\n",
    "            temp_str += \"{} = {},\\n\".format(KeyToLuaStr(key), DataToLuaStr(data[key], retract + 1))\n",
    "        temp_str += \"\\t\" * (retract - 1)\n",
    "        temp_str += \"}\"\n",
    "        return temp_str\n",
    "    \n",
    "    return \"nil\"\n",
    "\n",
    "def JsonToLua(json_file_name, lua_file_name, note = '' , module = \"GA.Config.Data\"):\n",
    "    data = LoadFromJson(json_file_name)\n",
    "    lua_str = \"--[[\\n{}\\n]]\\n{} = \".format(note , module)\n",
    "    with open(lua_file_name, 'wb') as f:\n",
    "        lua_str += DataToLuaStr(data)\n",
    "        f.write(lua_str.encode(\"utf-8\"))"
   ]
  },
  {
   "cell_type": "code",
   "execution_count": 27,
   "id": "949bda28",
   "metadata": {},
   "outputs": [],
   "source": [
    "in_dir = \"F:\\\\Genshin\\\\GenshinData\\\\ExcelBinOutput\\\\\"\n",
    "out_dir = \"F:\\\\Genshin\\\\GenshinData\\\\LuaTable\\\\\""
   ]
  },
  {
   "cell_type": "code",
   "execution_count": 28,
   "id": "d08f3a66",
   "metadata": {},
   "outputs": [],
   "source": [
    "for fi in os.listdir(in_dir):\n",
    "    if not fi.endswith(\".json\"):\n",
    "        continue\n",
    "    ori_dir = in_dir + fi\n",
    "    new_dir = out_dir + fi.replace(\".json\",\".lua\")\n",
    "    JsonToLua(ori_dir , new_dir, fi , \"GA.Config.\" + fi[:-5])"
   ]
  },
  {
   "cell_type": "code",
   "execution_count": null,
   "id": "14b457dd",
   "metadata": {},
   "outputs": [],
   "source": []
  }
 ],
 "metadata": {
  "kernelspec": {
   "display_name": "Python 3 (ipykernel)",
   "language": "python",
   "name": "python3"
  },
  "language_info": {
   "codemirror_mode": {
    "name": "ipython",
    "version": 3
   },
   "file_extension": ".py",
   "mimetype": "text/x-python",
   "name": "python",
   "nbconvert_exporter": "python",
   "pygments_lexer": "ipython3",
   "version": "3.9.12"
  }
 },
 "nbformat": 4,
 "nbformat_minor": 5
}
