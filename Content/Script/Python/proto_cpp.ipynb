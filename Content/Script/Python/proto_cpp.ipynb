{
 "cells": [
  {
   "cell_type": "code",
   "execution_count": 37,
   "metadata": {},
   "outputs": [],
   "source": [
    "import os,glob,shutil\n",
    "rootDir = \"E:\\\\ouczbs\\\\ZWorld\\\\Content\"\n",
    "UPrint = print\n",
    "def AutoGenPbc_CPP(rootDir):\n",
    "    os.chdir(rootDir + \"/Proto\")\n",
    "    os.chdir('../..')\n",
    "    out_path = os.getcwd() + \"/Plugins/GameFrame/Source/GameFrame/Public/Proto/\"\n",
    "    cppDir = rootDir + \"/Proto/cpp/\"\n",
    "    os.chdir(rootDir + \"/Proto\")\n",
    "    cmd = \"pb2cpp.bat\"\n",
    "    popen = os.popen(cmd)\n",
    "    lines = popen.readlines()\n",
    "    UPrint(cmd)\n",
    "    if lines:\n",
    "        UPrint(\"\".join(lines))\n",
    "    for file_name in os.listdir(cppDir):\n",
    "        shutil.move(cppDir + file_name,out_path + file_name)\n",
    "    pass"
   ]
  },
  {
   "cell_type": "code",
   "execution_count": 38,
   "metadata": {},
   "outputs": [
    {
     "name": "stdout",
     "output_type": "stream",
     "text": [
      "pb2cpp.bat\n",
      "\n",
      "(base) E:\\ouczbs\\ZWorld\\Content\\Proto>protoc --cpp_out=cpp/ Cmd.proto  \n",
      "\n",
      "(base) E:\\ouczbs\\ZWorld\\Content\\Proto>protoc --cpp_out=cpp/ DataConfig.proto  \n",
      "\n",
      "(base) E:\\ouczbs\\ZWorld\\Content\\Proto>protoc --cpp_out=cpp/ Login.proto  \n",
      "\n",
      "(base) E:\\ouczbs\\ZWorld\\Content\\Proto>protoc --cpp_out=cpp/ MessageType.proto  \n",
      "\n",
      "(base) E:\\ouczbs\\ZWorld\\Content\\Proto>protoc --cpp_out=cpp/ Wrap.proto  \n",
      "请按任意键继续. . . \n",
      "\n"
     ]
    }
   ],
   "source": [
    "AutoGenPbc_CPP(rootDir)"
   ]
  },
  {
   "cell_type": "code",
   "execution_count": null,
   "metadata": {},
   "outputs": [],
   "source": []
  }
 ],
 "metadata": {
  "kernelspec": {
   "display_name": "Python 3 (ipykernel)",
   "language": "python",
   "name": "python3"
  },
  "language_info": {
   "codemirror_mode": {
    "name": "ipython",
    "version": 3
   },
   "file_extension": ".py",
   "mimetype": "text/x-python",
   "name": "python",
   "nbconvert_exporter": "python",
   "pygments_lexer": "ipython3",
   "version": "3.9.12"
  }
 },
 "nbformat": 4,
 "nbformat_minor": 2
}
