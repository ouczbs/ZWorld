{
 "cells": [
  {
   "cell_type": "code",
   "execution_count": 30,
   "metadata": {},
   "outputs": [],
   "source": [
    "protoContent =\"\"\"\n",
    "\n",
    "syntax = \"proto3\";\n",
    "package pb;\n",
    "option go_package = \".;pb\";\n",
    "\n",
    "enum CMD\n",
    "{\n",
    "    CMD_MT_INVALID = 0;\n",
    "\n",
    "    MT_LOGIN_ACCOUNT = 1001;\n",
    "    MT_LOGIN_ACCOUNT_ACK = 1002;\n",
    "}\n",
    "\n",
    "\"\"\""
   ]
  },
  {
   "cell_type": "code",
   "execution_count": 57,
   "metadata": {},
   "outputs": [
    {
     "name": "stdout",
     "output_type": "stream",
     "text": [
      "\tCMD = {\n",
      "\t    CMD_MT_INVALID = 0,\n",
      "\t\n",
      "\t    MT_LOGIN_ACCOUNT = 1001,\n",
      "\t    MT_LOGIN_ACCOUNT_ACK = 1002,\n",
      "\t}\n"
     ]
    }
   ],
   "source": [
    "import re\n",
    "pattern = re.compile(r\"enum *([a-zA-Z0-9_]+)[ \\n]*{([^}]*)}\")\n",
    "enums = pattern.findall(protoContent) or []\n",
    "for enum in enums:\n",
    "    res = \"\\t\"\n",
    "    if res:\n",
    "        res += enum[0] + \" = {\"\n",
    "        res += enum[1].replace(\";\",\",\").replace(\"\\n\",\"\\n\\t\") + \"}\"\n",
    "    print(res)"
   ]
  },
  {
   "cell_type": "code",
   "execution_count": 56,
   "metadata": {},
   "outputs": [
    {
     "data": {
      "text/plain": [
       "'CMD'"
      ]
     },
     "execution_count": 56,
     "metadata": {},
     "output_type": "execute_result"
    }
   ],
   "source": [
    "enums[0][0]"
   ]
  },
  {
   "cell_type": "code",
   "execution_count": 43,
   "metadata": {},
   "outputs": [
    {
     "data": {
      "text/plain": [
       "'\\n    CMD_MT_INVALID = 0;\\n\\n    MT_LOGIN_ACCOUNT = 1001;\\n    MT_LOGIN_ACCOUNT_ACK = 1002;\\n'"
      ]
     },
     "execution_count": 43,
     "metadata": {},
     "output_type": "execute_result"
    }
   ],
   "source": [
    "enums.group(2)"
   ]
  },
  {
   "cell_type": "code",
   "execution_count": 34,
   "metadata": {},
   "outputs": [
    {
     "name": "stdout",
     "output_type": "stream",
     "text": [
      "<re.Match object; span=(11, 14), match='com'>\n"
     ]
    }
   ],
   "source": [
    "print(re.search('com', 'www.runoob.com'))         # 不在起始位置匹配"
   ]
  },
  {
   "cell_type": "code",
   "execution_count": null,
   "metadata": {},
   "outputs": [],
   "source": []
  }
 ],
 "metadata": {
  "kernelspec": {
   "display_name": "Python 3",
   "language": "python",
   "name": "python3"
  },
  "language_info": {
   "codemirror_mode": {
    "name": "ipython",
    "version": 3
   },
   "file_extension": ".py",
   "mimetype": "text/x-python",
   "name": "python",
   "nbconvert_exporter": "python",
   "pygments_lexer": "ipython3",
   "version": "3.7.3"
  }
 },
 "nbformat": 4,
 "nbformat_minor": 2
}
