{
 "cells": [
  {
   "cell_type": "code",
   "execution_count": 1,
   "metadata": {},
   "outputs": [
    {
     "data": {
      "text/plain": [
       "'E:\\\\ouczbs\\\\Survive\\\\Content\\\\Script\\\\Python'"
      ]
     },
     "execution_count": 1,
     "metadata": {},
     "output_type": "execute_result"
    }
   ],
   "source": [
    "import os \n",
    "os.getcwd()"
   ]
  },
  {
   "cell_type": "code",
   "execution_count": 2,
   "metadata": {},
   "outputs": [],
   "source": [
    "root_dir = \"E:\\\\ouczbs\\\\Survive\\\\Content\\\\\""
   ]
  },
  {
   "cell_type": "code",
   "execution_count": 36,
   "metadata": {},
   "outputs": [],
   "source": [
    "import os\n",
    "import re\n",
    "module_dir_list = [\"GameCore\" , \"GameManager\" , \"GamePlay\"  ,\"GameWorld\", \"GPModule\" ,\"GWModule\" ]\n",
    "module_file_list = [\"GC.lua\" , \"GM.lua\" , \"GP.lua\"  ,\"GW.lua\" ,\"GPM.lua\" ,\"GWM.lua\"]\n",
    "def CheckFileRequire(module_file , require_list):\n",
    "    require_dict = {}\n",
    "    write_lines = []\n",
    "    with open(module_file , \"r\") as f:\n",
    "        lines = [line for line in f.readlines() if \"require\" in line]\n",
    "    for line in lines:\n",
    "        res = re.search('require +\"([_A-Za-z0-9\\.]+)\"' , line)\n",
    "        if res:require_dict[res.group(1)] = True\n",
    "    for require in require_list:\n",
    "        if require not in require_dict:\n",
    "            write_lines.append('require \"{0}\"'.format(require))\n",
    "    with open(module_file , \"a+\") as f:\n",
    "        f.write(\"\\n\".join(write_lines))\n",
    "def CheckRequire(root_dir , module_file , require_name , module_name):\n",
    "    require_list = []\n",
    "    dir_list = []\n",
    "    module_path = \"{0}\\\\{1}\".format(root_dir, module_file)\n",
    "    for fi in os.listdir(root_dir):\n",
    "        if os.path.isdir(root_dir + \"\\\\\" + fi):\n",
    "            dir_list.append(fi)\n",
    "            require_list.append(\"{0}.{1}.{1}_Module\".format(require_name , fi))\n",
    "        elif \"_Module\" not in fi and fi != module_file:\n",
    "            require_list.append(\"{0}.{1}\".format(require_name , fi[:-4]))\n",
    "    if not os.path.exists(module_path):\n",
    "        with open(module_path , \"w+\") as f:\n",
    "            lines = \"\\n%s or {}\\n\\n\"% ( \"{0} = {0}\".format(module_name ) )\n",
    "            if module_name == \"GA\" and module_file != module_name:\n",
    "                lines = \"\\n\\n\"\n",
    "            f.write(lines)\n",
    "    CheckFileRequire(module_path , require_list)\n",
    "    if require_name == \"GPModule\" or require_name == \"GWModule\":\n",
    "        for fi in dir_list:\n",
    "            CheckRequire(\"{0}\\\\{1}\".format(root_dir, fi),\"{0}_Module.lua\".format(fi) , \"{0}.{1}\".format(require_name, fi) , module_name)\n",
    "        return\n",
    "    for fi in dir_list:\n",
    "        CheckRequire(\"{0}\\\\{1}\".format(root_dir, fi),\"{0}_Module.lua\".format(fi) , \"{0}.{1}\".format(require_name, fi) , \"{0}.{1}\".format(module_name, fi))\n",
    "def AutoGenLuaModule(root_dir):\n",
    "    for module_dir,module_file in zip(module_dir_list,module_file_list):\n",
    "        CheckRequire(root_dir + \"Script\\\\\" + module_dir , module_file , module_dir , \"GA\")"
   ]
  },
  {
   "cell_type": "code",
   "execution_count": 31,
   "metadata": {},
   "outputs": [],
   "source": [
    "def DelRequire(root_dir , module_file , require_name , module_name):\n",
    "    dir_list = []\n",
    "    module_path = \"{0}\\\\{1}\".format(root_dir, module_file)\n",
    "    for fi in os.listdir(root_dir):\n",
    "        if os.path.isdir(root_dir + \"\\\\\" + fi):\n",
    "            dir_list.append(fi)\n",
    "    if os.path.exists(module_path):\n",
    "        os.remove(module_path)\n",
    "    for fi in dir_list:\n",
    "        DelRequire(\"{0}\\\\{1}\".format(root_dir, fi),\"{0}_Module.lua\".format(fi) , \"{0}.{1}\".format(require_name, fi) , \"{0}.{1}\".format(module_name, fi))\n",
    "def DelModule(root_dir):\n",
    "    for module_dir,module_file in zip(module_dir_list,module_file_list):\n",
    "        DelRequire(root_dir + \"Script\\\\\" + module_dir , module_file , module_dir , \"GA\")"
   ]
  },
  {
   "cell_type": "code",
   "execution_count": 38,
   "metadata": {},
   "outputs": [],
   "source": [
    "AutoGenLuaModule(root_dir)"
   ]
  },
  {
   "cell_type": "code",
   "execution_count": null,
   "metadata": {},
   "outputs": [],
   "source": []
  },
  {
   "cell_type": "code",
   "execution_count": 37,
   "metadata": {},
   "outputs": [],
   "source": [
    "DelModule(root_dir)"
   ]
  },
  {
   "cell_type": "code",
   "execution_count": 35,
   "metadata": {},
   "outputs": [
    {
     "data": {
      "text/plain": [
       "True"
      ]
     },
     "execution_count": 35,
     "metadata": {},
     "output_type": "execute_result"
    }
   ],
   "source": [
    "require_name  = \"GWModule\"\n",
    "require_name == \"GPModule\" or require_name ==\"GWModule\""
   ]
  },
  {
   "cell_type": "code",
   "execution_count": 40,
   "metadata": {},
   "outputs": [
    {
     "name": "stdout",
     "output_type": "stream",
     "text": [
      "2\n"
     ]
    }
   ],
   "source": [
    "if 1 or 2 \\\n",
    "or 2 or 4:\n",
    "    print(2)"
   ]
  },
  {
   "cell_type": "code",
   "execution_count": null,
   "metadata": {},
   "outputs": [],
   "source": []
  }
 ],
 "metadata": {
  "kernelspec": {
   "display_name": "Python 3",
   "language": "python",
   "name": "python3"
  },
  "language_info": {
   "codemirror_mode": {
    "name": "ipython",
    "version": 3
   },
   "file_extension": ".py",
   "mimetype": "text/x-python",
   "name": "python",
   "nbconvert_exporter": "python",
   "pygments_lexer": "ipython3",
   "version": "3.7.3"
  }
 },
 "nbformat": 4,
 "nbformat_minor": 2
}
